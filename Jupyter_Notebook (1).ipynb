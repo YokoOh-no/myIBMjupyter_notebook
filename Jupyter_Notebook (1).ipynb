{
 "cells": [
  {
   "cell_type": "markdown",
   "metadata": {
    "jp-MarkdownHeadingCollapsed": true,
    "tags": []
   },
   "source": [
    "<img src=\"https://www.monster.com/career-advice/article/waiters-earn-tips-0217\" />\n",
    "<h1>\"My Jupyter Notebook on IBM Watson Studio\"</h1>"
   ]
  },
  {
   "cell_type": "markdown",
   "metadata": {},
   "source": [
    "<style text align: \"center\"><h1>\"Title: My Jupyter Notebook on IBM Watson Studio\"</h1></style>"
   ]
  },
  {
   "cell_type": "markdown",
   "metadata": {},
   "source": [
    "<p><strong>\"Dom Parish\"</strong></p>\n",
    "<p>\"Data Scientist or Full Stack web Developer\"</p>"
   ]
  },
  {
   "cell_type": "markdown",
   "metadata": {},
   "source": [
    "<p><i>\"I am interested in data science because i want to:\"</i></p>\n",
    "    <ul>\n",
    "    <li>\"learn how to make better schedule training\"</li>\n",
    "    <li>\"automate purchasing decisions\"</li>\n",
    "    </ul>"
   ]
  },
  {
   "cell_type": "markdown",
   "metadata": {},
   "source": [
    "<h3>\"My code will the take the sales for a server and calculate take home after tipshare.\"</h3>\n",
    "<ol>\n",
    "    <li>\"Ask for net sales\"</li>\n",
    "    <li>\"Ask for total tips earned\"</li>\n",
    "    <li>\"Return the value for manager to payout or track as owed\"</li>\n",
    "</ol>"
   ]
  },
  {
   "cell_type": "code",
   "execution_count": 11,
   "metadata": {},
   "outputs": [
    {
     "name": "stdin",
     "output_type": "stream",
     "text": [
      "How much was your total net sales? 45\n",
      "How much did you make in tips tonight? : 33\n"
     ]
    },
    {
     "name": "stdout",
     "output_type": "stream",
     "text": [
      "30.75\n"
     ]
    }
   ],
   "source": [
    "total_sales = input(\"How much was your total net sales?\")\n",
    "total_tips = input(\"How much did you make in tips tonight? :\")\n",
    "net = float(total_sales)\n",
    "tips = float(total_tips)\n",
    "tipshare = net * .05\n",
    "net_earned = (tips - tipshare)\n",
    "takehome = print(net_earned)\n"
   ]
  },
  {
   "cell_type": "code",
   "execution_count": null,
   "metadata": {},
   "outputs": [],
   "source": []
  }
 ],
 "metadata": {
  "kernelspec": {
   "display_name": "Python",
   "language": "python",
   "name": "conda-env-python-py"
  },
  "language_info": {
   "codemirror_mode": {
    "name": "ipython",
    "version": 3
   },
   "file_extension": ".py",
   "mimetype": "text/x-python",
   "name": "python",
   "nbconvert_exporter": "python",
   "pygments_lexer": "ipython3",
   "version": "3.7.12"
  }
 },
 "nbformat": 4,
 "nbformat_minor": 4
}
